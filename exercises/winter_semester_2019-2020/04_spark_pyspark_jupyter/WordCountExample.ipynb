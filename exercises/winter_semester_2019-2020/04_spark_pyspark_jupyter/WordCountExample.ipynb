{
 "cells": [
  {
   "cell_type": "code",
   "execution_count": 1,
   "metadata": {},
   "outputs": [],
   "source": [
    "# Initialize SparkContext and SparkSession\n",
    "import findspark, os\n",
    "findspark.init('/home/hadoop/spark')\n",
    "import pyspark\n",
    "from pyspark.sql import SparkSession\n",
    "conf = pyspark.SparkConf().setMaster(\"yarn\").setAppName(\"Jupyter PySpark Test\")\n",
    "sc = pyspark.SparkContext(conf = conf)\n",
    "spark = SparkSession(sc)"
   ]
  },
  {
   "cell_type": "code",
   "execution_count": 2,
   "metadata": {},
   "outputs": [
    {
     "name": "stdout",
     "output_type": "stream",
     "text": [
      "[('', 1603), ('und', 509), ('die', 463), ('der', 440), ('ich', 435), ('Und', 400), ('nicht', 346), ('zu', 319), ('ist', 291), ('ein', 284)]\n"
     ]
    }
   ],
   "source": [
    "# Execute Word Count Example\n",
    "text_file = spark.read.text(\"/user/hadoop/Faust_1.txt\").rdd.map(lambda r: r[0])\n",
    "words = text_file.flatMap(lambda line: line.split(\" \"))\n",
    "counts = words.map(lambda word: (word, 1)).reduceByKey(lambda a,b:a +b)\n",
    "output = counts.collect()\n",
    "sorted_output = sorted(output,key=lambda x:(-x[1],x[0]))\n",
    "print(sorted_output[:10])"
   ]
  }
 ],
 "metadata": {
  "kernelspec": {
   "display_name": "Python 3",
   "language": "python",
   "name": "python3"
  },
  "language_info": {
   "codemirror_mode": {
    "name": "ipython",
    "version": 3
   },
   "file_extension": ".py",
   "mimetype": "text/x-python",
   "name": "python",
   "nbconvert_exporter": "python",
   "pygments_lexer": "ipython3",
   "version": "3.6.8"
  }
 },
 "nbformat": 4,
 "nbformat_minor": 2
}
