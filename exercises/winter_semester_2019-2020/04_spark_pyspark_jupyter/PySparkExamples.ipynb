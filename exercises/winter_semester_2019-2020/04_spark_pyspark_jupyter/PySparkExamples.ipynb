{
 "cells": [
  {
   "cell_type": "code",
   "execution_count": 1,
   "metadata": {},
   "outputs": [],
   "source": [
    "# Initialize SparkContext and SparkSession\n",
    "import findspark, os\n",
    "findspark.init('/home/hadoop/spark')\n",
    "import pyspark\n",
    "from pyspark.sql import SparkSession\n",
    "conf = pyspark.SparkConf().setMaster(\"yarn\").setAppName(\"Jupyter PySpark Test\")\n",
    "sc = pyspark.SparkContext(conf = conf)\n",
    "spark = SparkSession(sc)"
   ]
  },
  {
   "cell_type": "code",
   "execution_count": 2,
   "metadata": {},
   "outputs": [],
   "source": [
    "# Read title.basics.tsv into Spark dataframe\n",
    "imdb_title_basics_dataframe = spark.read.format('csv').options(\\\n",
    "    header='true', delimiter='\\t', nullValue='null', inferschema='true')\\\n",
    "    .load('/user/hadoop/imdb/title_basics/title.basics.tsv')"
   ]
  },
  {
   "cell_type": "code",
   "execution_count": 3,
   "metadata": {},
   "outputs": [
    {
     "name": "stdout",
     "output_type": "stream",
     "text": [
      "root\n",
      " |-- tconst: string (nullable = true)\n",
      " |-- titleType: string (nullable = true)\n",
      " |-- primaryTitle: string (nullable = true)\n",
      " |-- originalTitle: string (nullable = true)\n",
      " |-- isAdult: integer (nullable = true)\n",
      " |-- startYear: string (nullable = true)\n",
      " |-- endYear: string (nullable = true)\n",
      " |-- runtimeMinutes: string (nullable = true)\n",
      " |-- genres: string (nullable = true)\n",
      "\n"
     ]
    }
   ],
   "source": [
    "imdb_title_basics_dataframe.printSchema() # Print Schema of title_basics dataframe "
   ]
  },
  {
   "cell_type": "code",
   "execution_count": 4,
   "metadata": {},
   "outputs": [
    {
     "name": "stdout",
     "output_type": "stream",
     "text": [
      "+---------+---------+--------------------+--------------------+-------+---------+-------+--------------+--------------------+\n",
      "|   tconst|titleType|        primaryTitle|       originalTitle|isAdult|startYear|endYear|runtimeMinutes|              genres|\n",
      "+---------+---------+--------------------+--------------------+-------+---------+-------+--------------+--------------------+\n",
      "|tt0000001|    short|          Carmencita|          Carmencita|      0|     1894|     \\N|             1|   Documentary,Short|\n",
      "|tt0000002|    short|Le clown et ses c...|Le clown et ses c...|      0|     1892|     \\N|             5|     Animation,Short|\n",
      "|tt0000003|    short|      Pauvre Pierrot|      Pauvre Pierrot|      0|     1892|     \\N|             4|Animation,Comedy,...|\n",
      "|tt0000004|    short|         Un bon bock|         Un bon bock|      0|     1892|     \\N|            \\N|     Animation,Short|\n",
      "|tt0000005|    short|    Blacksmith Scene|    Blacksmith Scene|      0|     1893|     \\N|             1|        Comedy,Short|\n",
      "+---------+---------+--------------------+--------------------+-------+---------+-------+--------------+--------------------+\n",
      "only showing top 5 rows\n",
      "\n"
     ]
    }
   ],
   "source": [
    "imdb_title_basics_dataframe.show(5) # Show first 5 rows of title_basics dataframe "
   ]
  },
  {
   "cell_type": "code",
   "execution_count": 5,
   "metadata": {},
   "outputs": [
    {
     "data": {
      "text/plain": [
       "6262637"
      ]
     },
     "execution_count": 5,
     "metadata": {},
     "output_type": "execute_result"
    }
   ],
   "source": [
    "imdb_title_basics_dataframe.count() # show number of rows within title_basics dataframe "
   ]
  },
  {
   "cell_type": "code",
   "execution_count": 6,
   "metadata": {
    "scrolled": true
   },
   "outputs": [
    {
     "name": "stdout",
     "output_type": "stream",
     "text": [
      "+------------+-------+\n",
      "|   titleType|  count|\n",
      "+------------+-------+\n",
      "|   tvEpisode|4392190|\n",
      "|       short| 707983|\n",
      "|       movie| 533869|\n",
      "|       video| 245253|\n",
      "|    tvSeries| 173337|\n",
      "|     tvMovie| 120824|\n",
      "|tvMiniSeries|  28114|\n",
      "|   tvSpecial|  25479|\n",
      "|   videoGame|  24322|\n",
      "|     tvShort|  11266|\n",
      "+------------+-------+\n",
      "\n"
     ]
    }
   ],
   "source": [
    "# Get column titleTypes values with counts and ordered descending\n",
    "from pyspark.sql.functions import desc\n",
    "imdb_title_basics_dataframe.groupBy(\"titleType\").count().orderBy(desc(\"count\")).show()"
   ]
  },
  {
   "cell_type": "code",
   "execution_count": 7,
   "metadata": {},
   "outputs": [
    {
     "name": "stdout",
     "output_type": "stream",
     "text": [
      "+-------------------+\n",
      "|avg(runtimeMinutes)|\n",
      "+-------------------+\n",
      "|  88.34293031750659|\n",
      "+-------------------+\n",
      "\n"
     ]
    }
   ],
   "source": [
    "# Calculate average Movie length in minutes\n",
    "from pyspark.sql.functions import avg\n",
    "imdb_title_basics_dataframe.filter(imdb_title_basics_dataframe['titleType']=='movie')\\\n",
    "    .agg(avg('runtimeMinutes')).show() "
   ]
  },
  {
   "cell_type": "code",
   "execution_count": 8,
   "metadata": {},
   "outputs": [],
   "source": [
    "# Read title.ratings.tsv into Spark dataframe\n",
    "imdb_title_ratings_dataframe = spark.read.format('csv').options(\\\n",
    "    header='true', delimiter='\\t', nullValue='null', inferschema='true')\\\n",
    "    .load('/user/hadoop/imdb/title_ratings/title.ratings.tsv')"
   ]
  },
  {
   "cell_type": "code",
   "execution_count": 9,
   "metadata": {},
   "outputs": [
    {
     "name": "stdout",
     "output_type": "stream",
     "text": [
      "root\n",
      " |-- tconst: string (nullable = true)\n",
      " |-- averageRating: double (nullable = true)\n",
      " |-- numVotes: integer (nullable = true)\n",
      "\n"
     ]
    }
   ],
   "source": [
    "imdb_title_ratings_dataframe.printSchema() # Print Schema of title_ratings dataframe "
   ]
  },
  {
   "cell_type": "code",
   "execution_count": 10,
   "metadata": {},
   "outputs": [
    {
     "name": "stdout",
     "output_type": "stream",
     "text": [
      "+---------+-------------+--------+\n",
      "|   tconst|averageRating|numVotes|\n",
      "+---------+-------------+--------+\n",
      "|tt0000001|          5.6|    1543|\n",
      "|tt0000002|          6.1|     186|\n",
      "|tt0000003|          6.5|    1201|\n",
      "|tt0000004|          6.2|     114|\n",
      "|tt0000005|          6.1|    1921|\n",
      "+---------+-------------+--------+\n",
      "only showing top 5 rows\n",
      "\n"
     ]
    }
   ],
   "source": [
    "imdb_title_ratings_dataframe.show(5) # Show first 5 rows of title_ratings dataframe "
   ]
  },
  {
   "cell_type": "code",
   "execution_count": 11,
   "metadata": {},
   "outputs": [],
   "source": [
    "# JOIN Data Frames\n",
    "title_basics_and_ratings_df = imdb_title_basics_dataframe.join(imdb_title_ratings_dataframe, \\\n",
    "                            imdb_title_basics_dataframe.tconst == imdb_title_ratings_dataframe.tconst)"
   ]
  },
  {
   "cell_type": "code",
   "execution_count": 12,
   "metadata": {},
   "outputs": [
    {
     "name": "stdout",
     "output_type": "stream",
     "text": [
      "+--------------------+---------+-------+-------------+--------+\n",
      "|       originalTitle|startYear|endYear|averageRating|numVotes|\n",
      "+--------------------+---------+-------+-------------+--------+\n",
      "|        Breaking Bad|     2008|   2013|          9.5| 1271805|\n",
      "|     Game of Thrones|     2011|   2019|          9.4| 1598911|\n",
      "|      Rick and Morty|     2013|     \\N|          9.3|  296206|\n",
      "|            The Wire|     2002|   2008|          9.3|  254371|\n",
      "|Avatar: The Last ...|     2005|   2008|          9.2|  200077|\n",
      "+--------------------+---------+-------+-------------+--------+\n",
      "only showing top 5 rows\n",
      "\n"
     ]
    }
   ],
   "source": [
    "top_tvseries=title_basics_and_ratings_df.filter(title_basics_and_ratings_df['titleType']=='tvSeries')\\\n",
    "                            .filter(title_basics_and_ratings_df['numVotes'] > 200000)\\\n",
    "                            .orderBy(desc('averageRating'))\\\n",
    "                            .select('originalTitle', 'startYear', 'endYear', 'averageRating', 'numVotes')\n",
    "top_tvseries.show(5)"
   ]
  },
  {
   "cell_type": "code",
   "execution_count": 14,
   "metadata": {},
   "outputs": [],
   "source": [
    "top_tvseries.write.format('parquet')\\\n",
    "                    .partitionBy('startYear')\\\n",
    "                    .mode('overwrite')\\\n",
    "                    .save('/user/hadoop/imdb/top_tvseries')"
   ]
  },
  {
   "cell_type": "code",
   "execution_count": 15,
   "metadata": {},
   "outputs": [
    {
     "name": "stdout",
     "output_type": "stream",
     "text": [
      "+---------+-----+\n",
      "|startYear|count|\n",
      "+---------+-----+\n",
      "|     1991|    4|\n",
      "|     1992|    8|\n",
      "|     1993|    8|\n",
      "|     1994|   13|\n",
      "|     1995|   14|\n",
      "+---------+-----+\n",
      "only showing top 5 rows\n",
      "\n"
     ]
    }
   ],
   "source": [
    "good_movies_df = title_basics_and_ratings_df.filter(title_basics_and_ratings_df['titleType']=='movie')\\\n",
    "                            .filter(title_basics_and_ratings_df['numVotes'] > 200000)\\\n",
    "                            .filter(title_basics_and_ratings_df['startYear'] > 1990)\\\n",
    "                            .groupBy('startYear')\\\n",
    "                            .count()\\\n",
    "                            .orderBy('startYear')\n",
    "good_movies_df.show(5)"
   ]
  },
  {
   "cell_type": "code",
   "execution_count": 19,
   "metadata": {},
   "outputs": [
    {
     "data": {
      "text/plain": [
       "<matplotlib.axes._subplots.AxesSubplot at 0x7f0b87e01c88>"
      ]
     },
     "execution_count": 19,
     "metadata": {},
     "output_type": "execute_result"
    },
    {
     "data": {
      "image/png": "[encoded data removed]",
      "text/plain": [
       "<Figure size 432x288 with 1 Axes>"
      ]
     },
     "metadata": {
      "needs_background": "light"
     },
     "output_type": "display_data"
    }
   ],
   "source": [
    "import matplotlib.pyplot as plt\n",
    "import pandas\n",
    "pandas_dataframe = good_movies_df.select('startYear', 'count').toPandas()\n",
    "pandas_dataframe.plot.bar(x='startYear', y='count')"
   ]
  },
  {
   "cell_type": "code",
   "execution_count": 17,
   "metadata": {},
   "outputs": [],
   "source": [
    "title_basics_and_ratings_df.select('originalTitle', 'titleType', 'startYear', \\\n",
    "                                   'endYear', 'numVotes', 'averageRating')\\\n",
    "                            .write.saveAsTable('movies_and_ratings')"
   ]
  },
  {
   "cell_type": "code",
   "execution_count": 18,
   "metadata": {},
   "outputs": [
    {
     "name": "stdout",
     "output_type": "stream",
     "text": [
      "+-------------+-------------+\n",
      "|originalTitle|averageRating|\n",
      "+-------------+-------------+\n",
      "|        Joker|          8.9|\n",
      "| Interstellar|          8.6|\n",
      "+-------------+-------------+\n",
      "\n"
     ]
    }
   ],
   "source": [
    "result_df = spark.sql(\"\"\"SELECT originalTitle, averageRating FROM movies_and_ratings WHERE \n",
    "                        numVotes > 200000 AND titleType= 'movie' AND averageRating > 8.5 AND startYear > 2010 \n",
    "                        ORDER BY averageRating DESC LIMIT 10\"\"\"\n",
    "                     ).show(10)"
   ]
  }
 ],
 "metadata": {
  "kernelspec": {
   "display_name": "Python 3",
   "language": "python",
   "name": "python3"
  },
  "language_info": {
   "codemirror_mode": {
    "name": "ipython",
    "version": 3
   },
   "file_extension": ".py",
   "mimetype": "text/x-python",
   "name": "python",
   "nbconvert_exporter": "python",
   "pygments_lexer": "ipython3",
   "version": "3.6.8"
  }
 },
 "nbformat": 4,
 "nbformat_minor": 2
}
