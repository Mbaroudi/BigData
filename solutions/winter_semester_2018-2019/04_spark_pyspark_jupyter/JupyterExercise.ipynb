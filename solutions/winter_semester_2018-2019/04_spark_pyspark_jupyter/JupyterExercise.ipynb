{
 "cells": [
  {
   "cell_type": "code",
   "execution_count": 1,
   "metadata": {},
   "outputs": [],
   "source": [
    "import findspark\n",
    "import os\n",
    "findspark.init('/home/hadoop/spark')\n",
    "from pyspark.conf import SparkConf\n",
    "from pyspark.context import SparkContext\n",
    "conf = SparkConf().setAppName('Jupyter PySpark Exercise')\n",
    "conf.set('spark.yarn.dist.files','file:/home/hadoop/spark/python/lib/pyspark.zip,file:/home/hadoop/spark/python/lib/py4j-0.10.7-src.zip')\n",
    "conf.setExecutorEnv('PYTHONPATH','pyspark.zip:py4j-0.10.7-src.zip')\n",
    "conf.setMaster('yarn') # Run on Yarn, not local\n",
    "sc = SparkContext(conf=conf)"
   ]
  },
  {
   "cell_type": "code",
   "execution_count": 2,
   "metadata": {},
   "outputs": [],
   "source": [
    "from pyspark.sql import SparkSession\n",
    "spark = SparkSession(sc)"
   ]
  },
  {
   "cell_type": "code",
   "execution_count": 24,
   "metadata": {},
   "outputs": [],
   "source": [
    "imdb_movie_dataframe = spark.read.format('com.databricks.spark.csv').options(delimiter = '\\t',header ='true',nullValue ='null',inferSchema='true').load('hdfs:///user/hadoop/imdb_raw/title_basics/2018/12/7/title.basics.tsv')"
   ]
  },
  {
   "cell_type": "code",
   "execution_count": 5,
   "metadata": {},
   "outputs": [
    {
     "name": "stdout",
     "output_type": "stream",
     "text": [
      "+---------+---------+--------------------+--------------------+-------+---------+-------+--------------+--------------------+\n",
      "|   tconst|titleType|        primaryTitle|       originalTitle|isAdult|startYear|endYear|runtimeMinutes|              genres|\n",
      "+---------+---------+--------------------+--------------------+-------+---------+-------+--------------+--------------------+\n",
      "|tt0000001|    short|          Carmencita|          Carmencita|      0|     1894|     \\N|             1|   Documentary,Short|\n",
      "|tt0000002|    short|Le clown et ses c...|Le clown et ses c...|      0|     1892|     \\N|             5|     Animation,Short|\n",
      "|tt0000003|    short|      Pauvre Pierrot|      Pauvre Pierrot|      0|     1892|     \\N|             4|Animation,Comedy,...|\n",
      "|tt0000004|    short|         Un bon bock|         Un bon bock|      0|     1892|     \\N|            \\N|     Animation,Short|\n",
      "|tt0000005|    short|    Blacksmith Scene|    Blacksmith Scene|      0|     1893|     \\N|             1|        Comedy,Short|\n",
      "+---------+---------+--------------------+--------------------+-------+---------+-------+--------------+--------------------+\n",
      "only showing top 5 rows\n",
      "\n"
     ]
    }
   ],
   "source": [
    "imdb_movie_dataframe.show(5)"
   ]
  },
  {
   "cell_type": "code",
   "execution_count": 9,
   "metadata": {},
   "outputs": [],
   "source": [
    "from pyspark.sql.functions import col\n",
    "movie_count = imdb_movie_dataframe.filter(col('titleType') == 'movie').count()"
   ]
  },
  {
   "cell_type": "code",
   "execution_count": 11,
   "metadata": {},
   "outputs": [
    {
     "name": "stdout",
     "output_type": "stream",
     "text": [
      "499667\n"
     ]
    }
   ],
   "source": [
    "print movie_count"
   ]
  },
  {
   "cell_type": "code",
   "execution_count": 13,
   "metadata": {},
   "outputs": [],
   "source": [
    "imdb_people_dataframe = spark.read.format('com.databricks.spark.csv').options(delimiter = '\\t',header ='true',nullValue ='null',inferSchema='true').load('hdfs:///user/hadoop/names.basics.tsv')"
   ]
  },
  {
   "cell_type": "code",
   "execution_count": 19,
   "metadata": {},
   "outputs": [
    {
     "name": "stdout",
     "output_type": "stream",
     "text": [
      "+---------+------------------+---------+---------+--------------------+--------------------+\n",
      "|   nconst|       primaryName|birthYear|deathYear|   primaryProfession|      knownForTitles|\n",
      "+---------+------------------+---------+---------+--------------------+--------------------+\n",
      "|nm8572003|   Michael Vignola|     0001|       \\N|composer,music_de...|tt6998038,tt40992...|\n",
      "|nm0784172|Lucio Anneo Seneca|     0004|     0065|              writer|tt0218822,tt09725...|\n",
      "|nm0194670|       Célina Cély|     0004|       \\N|             actress|tt0043347,tt00560...|\n",
      "+---------+------------------+---------+---------+--------------------+--------------------+\n",
      "only showing top 3 rows\n",
      "\n"
     ]
    }
   ],
   "source": [
    "oldest_one = imdb_people_dataframe.filter(col('birthYear') != '\\N').sort(col(\"birthYear\").asc()).show(3)"
   ]
  },
  {
   "cell_type": "code",
   "execution_count": 20,
   "metadata": {},
   "outputs": [],
   "source": [
    "imdb_ratings_dataframe = spark.read.format('com.databricks.spark.csv').options(delimiter = '\\t',header ='true',nullValue ='null',inferSchema='true').load('hdfs:///user/hadoop/imdb_raw/title_ratings/2018/12/7/title.ratings.tsv')"
   ]
  },
  {
   "cell_type": "code",
   "execution_count": 25,
   "metadata": {},
   "outputs": [],
   "source": [
    "all_imdb_dataframe = imdb_ratings_dataframe.join(imdb_movie_dataframe, imdb_ratings_dataframe.tconst == imdb_movie_dataframe.tconst)"
   ]
  },
  {
   "cell_type": "code",
   "execution_count": 34,
   "metadata": {},
   "outputs": [],
   "source": [
    "good_movies = all_imdb_dataframe.filter(col('numVotes') > 100000).filter(col('startYear') > 2000).filter(col('averageRating') > 8.0).filter(col('titleType') == 'movie')"
   ]
  },
  {
   "cell_type": "code",
   "execution_count": 35,
   "metadata": {},
   "outputs": [
    {
     "name": "stdout",
     "output_type": "stream",
     "text": [
      "+--------------------+---------+-------------+--------+\n",
      "|       originalTitle|startYear|averageRating|numVotes|\n",
      "+--------------------+---------+-------------+--------+\n",
      "|     The Dark Knight|     2008|          9.0| 1971593|\n",
      "|The Lord of the R...|     2003|          8.9| 1425695|\n",
      "|           Inception|     2010|          8.8| 1752024|\n",
      "|The Lord of the R...|     2001|          8.8| 1442541|\n",
      "|The Lord of the R...|     2002|          8.7| 1288857|\n",
      "+--------------------+---------+-------------+--------+\n",
      "only showing top 5 rows\n",
      "\n"
     ]
    }
   ],
   "source": [
    "good_movies.sort(col(\"averageRating\").desc(),col(\"numVotes\").desc()).select(\"originalTitle\", \"startYear\", \"averageRating\", \"numVotes\").show(5)"
   ]
  },
  {
   "cell_type": "code",
   "execution_count": 36,
   "metadata": {},
   "outputs": [],
   "source": [
    "good_movies.sort(col(\"averageRating\").desc(),col(\"numVotes\").desc()).select(\"originalTitle\", \"startYear\", \"averageRating\", \"numVotes\").write.format(\"csv\").save(\"hdfs:///user/hadoop/good_movies\") \n",
    "# saved on HDFS as /user/hadoop/good_movies/part-00000-f01c02b6-516a-4a28-9b7e-d271bfc47536-c000.csv\n",
    "..."
   ]
  },
  {
   "cell_type": "code",
   "execution_count": 37,
   "metadata": {},
   "outputs": [
    {
     "name": "stdout",
     "output_type": "stream",
     "text": [
      "79\n"
     ]
    }
   ],
   "source": [
    "print good_movies.count()"
   ]
  },
  {
   "cell_type": "code",
   "execution_count": 38,
   "metadata": {},
   "outputs": [],
   "source": [
    "plot_dataframe = good_movies.groupBy('startYear').count().sort(col(\"startYear\").asc())"
   ]
  },
  {
   "cell_type": "code",
   "execution_count": 39,
   "metadata": {},
   "outputs": [
    {
     "name": "stdout",
     "output_type": "stream",
     "text": [
      "+---------+-----+\n",
      "|startYear|count|\n",
      "+---------+-----+\n",
      "|     2001|    6|\n",
      "|     2002|    5|\n",
      "|     2003|    4|\n",
      "|     2004|    6|\n",
      "|     2005|    2|\n",
      "|     2006|    4|\n",
      "|     2007|    4|\n",
      "|     2008|    3|\n",
      "|     2009|    6|\n",
      "|     2010|    5|\n",
      "|     2011|    5|\n",
      "|     2012|    4|\n",
      "|     2013|    4|\n",
      "|     2014|    7|\n",
      "|     2015|    4|\n",
      "|     2016|    5|\n",
      "|     2017|    3|\n",
      "|     2018|    2|\n",
      "+---------+-----+\n",
      "\n"
     ]
    }
   ],
   "source": [
    "plot_dataframe.show()"
   ]
  },
  {
   "cell_type": "code",
   "execution_count": 40,
   "metadata": {},
   "outputs": [],
   "source": [
    "import matplotlib.pyplot as plt\n",
    "import pandas\n",
    "pd_df=plot_dataframe.select(\"startYear\", \"count\").toPandas()"
   ]
  },
  {
   "cell_type": "code",
   "execution_count": 41,
   "metadata": {},
   "outputs": [
    {
     "data": {
      "text/plain": [
       "<matplotlib.axes._subplots.AxesSubplot at 0x7fe72495ec50>"
      ]
     },
     "execution_count": 41,
     "metadata": {},
     "output_type": "execute_result"
    },
    {
     "data": {
      "image/png": "[encoded data removed]",
      "text/plain": [
       "<Figure size 432x288 with 1 Axes>"
      ]
     },
     "metadata": {
      "needs_background": "light"
     },
     "output_type": "display_data"
    }
   ],
   "source": [
    "pd_df.plot.bar(x='startYear',y='count')"
   ]
  }
 ],
 "metadata": {
  "kernelspec": {
   "display_name": "Python 2",
   "language": "python",
   "name": "python2"
  },
  "language_info": {
   "codemirror_mode": {
    "name": "ipython",
    "version": 2
   },
   "file_extension": ".py",
   "mimetype": "text/x-python",
   "name": "python",
   "nbconvert_exporter": "python",
   "pygments_lexer": "ipython2",
   "version": "2.7.15rc1"
  }
 },
 "nbformat": 4,
 "nbformat_minor": 2
}
